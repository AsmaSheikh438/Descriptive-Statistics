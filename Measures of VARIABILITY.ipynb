{
 "cells": [
  {
   "cell_type": "markdown",
   "id": "5618ca8b-9eda-483a-a8c1-b58ffe041aae",
   "metadata": {},
   "source": [
    "## Measures of Variability\n",
    "This includes....\n",
    "\n",
    "#### 1.  Range\n",
    "#### 2.  Mean absulute Division (MAD)\n",
    "#### 3.  Variance\n",
    "#### 4.  Standara Deviation (SD)\n",
    "\n",
    "All these methods use to check the Spreadness of Data"
   ]
  },
  {
   "cell_type": "markdown",
   "id": "9bc9e20d-047a-4a92-af63-bd9d7e78987d",
   "metadata": {},
   "source": [
    "### 1. Range\n",
    "Range is the difference between the maximum and minimum values in the dataset.\n",
    "\n",
    "It provides a simple measures of spread of the data, but it can be sensitive to outliers."
   ]
  },
  {
   "cell_type": "markdown",
   "id": "a2c82cde-938c-46ce-b933-4473a88cd780",
   "metadata": {},
   "source": [
    "#### Range = Maximum - Minumum"
   ]
  },
  {
   "cell_type": "code",
   "execution_count": 1,
   "id": "6345c0cc-af9e-4c96-a791-cbcc93fc4009",
   "metadata": {},
   "outputs": [],
   "source": [
    "# importing liberaries\n",
    "import numpy as np\n",
    "import pandas as pd\n",
    "import matplotlib.pyplot as plt\n",
    "import seaborn as sns"
   ]
  },
  {
   "cell_type": "code",
   "execution_count": 2,
   "id": "eb5ca380-b720-470b-865e-49cddd11e08c",
   "metadata": {},
   "outputs": [
    {
     "data": {
      "text/html": [
       "<div>\n",
       "<style scoped>\n",
       "    .dataframe tbody tr th:only-of-type {\n",
       "        vertical-align: middle;\n",
       "    }\n",
       "\n",
       "    .dataframe tbody tr th {\n",
       "        vertical-align: top;\n",
       "    }\n",
       "\n",
       "    .dataframe thead th {\n",
       "        text-align: right;\n",
       "    }\n",
       "</style>\n",
       "<table border=\"1\" class=\"dataframe\">\n",
       "  <thead>\n",
       "    <tr style=\"text-align: right;\">\n",
       "      <th></th>\n",
       "      <th>PassengerId</th>\n",
       "      <th>Survived</th>\n",
       "      <th>Pclass</th>\n",
       "      <th>Name</th>\n",
       "      <th>Sex</th>\n",
       "      <th>Age</th>\n",
       "      <th>SibSp</th>\n",
       "      <th>Parch</th>\n",
       "      <th>Ticket</th>\n",
       "      <th>Fare</th>\n",
       "      <th>Cabin</th>\n",
       "      <th>Embarked</th>\n",
       "    </tr>\n",
       "  </thead>\n",
       "  <tbody>\n",
       "    <tr>\n",
       "      <th>0</th>\n",
       "      <td>1</td>\n",
       "      <td>0</td>\n",
       "      <td>3</td>\n",
       "      <td>Braund, Mr. Owen Harris</td>\n",
       "      <td>male</td>\n",
       "      <td>22.0</td>\n",
       "      <td>1</td>\n",
       "      <td>0</td>\n",
       "      <td>A/5 21171</td>\n",
       "      <td>7.2500</td>\n",
       "      <td>NaN</td>\n",
       "      <td>S</td>\n",
       "    </tr>\n",
       "    <tr>\n",
       "      <th>1</th>\n",
       "      <td>2</td>\n",
       "      <td>1</td>\n",
       "      <td>1</td>\n",
       "      <td>Cumings, Mrs. John Bradley (Florence Briggs Th...</td>\n",
       "      <td>female</td>\n",
       "      <td>38.0</td>\n",
       "      <td>1</td>\n",
       "      <td>0</td>\n",
       "      <td>PC 17599</td>\n",
       "      <td>71.2833</td>\n",
       "      <td>C85</td>\n",
       "      <td>C</td>\n",
       "    </tr>\n",
       "    <tr>\n",
       "      <th>2</th>\n",
       "      <td>3</td>\n",
       "      <td>1</td>\n",
       "      <td>3</td>\n",
       "      <td>Heikkinen, Miss. Laina</td>\n",
       "      <td>female</td>\n",
       "      <td>26.0</td>\n",
       "      <td>0</td>\n",
       "      <td>0</td>\n",
       "      <td>STON/O2. 3101282</td>\n",
       "      <td>7.9250</td>\n",
       "      <td>NaN</td>\n",
       "      <td>S</td>\n",
       "    </tr>\n",
       "    <tr>\n",
       "      <th>3</th>\n",
       "      <td>4</td>\n",
       "      <td>1</td>\n",
       "      <td>1</td>\n",
       "      <td>Futrelle, Mrs. Jacques Heath (Lily May Peel)</td>\n",
       "      <td>female</td>\n",
       "      <td>35.0</td>\n",
       "      <td>1</td>\n",
       "      <td>0</td>\n",
       "      <td>113803</td>\n",
       "      <td>53.1000</td>\n",
       "      <td>C123</td>\n",
       "      <td>S</td>\n",
       "    </tr>\n",
       "    <tr>\n",
       "      <th>4</th>\n",
       "      <td>5</td>\n",
       "      <td>0</td>\n",
       "      <td>3</td>\n",
       "      <td>Allen, Mr. William Henry</td>\n",
       "      <td>male</td>\n",
       "      <td>35.0</td>\n",
       "      <td>0</td>\n",
       "      <td>0</td>\n",
       "      <td>373450</td>\n",
       "      <td>8.0500</td>\n",
       "      <td>NaN</td>\n",
       "      <td>S</td>\n",
       "    </tr>\n",
       "  </tbody>\n",
       "</table>\n",
       "</div>"
      ],
      "text/plain": [
       "   PassengerId  Survived  Pclass  \\\n",
       "0            1         0       3   \n",
       "1            2         1       1   \n",
       "2            3         1       3   \n",
       "3            4         1       1   \n",
       "4            5         0       3   \n",
       "\n",
       "                                                Name     Sex   Age  SibSp  \\\n",
       "0                            Braund, Mr. Owen Harris    male  22.0      1   \n",
       "1  Cumings, Mrs. John Bradley (Florence Briggs Th...  female  38.0      1   \n",
       "2                             Heikkinen, Miss. Laina  female  26.0      0   \n",
       "3       Futrelle, Mrs. Jacques Heath (Lily May Peel)  female  35.0      1   \n",
       "4                           Allen, Mr. William Henry    male  35.0      0   \n",
       "\n",
       "   Parch            Ticket     Fare Cabin Embarked  \n",
       "0      0         A/5 21171   7.2500   NaN        S  \n",
       "1      0          PC 17599  71.2833   C85        C  \n",
       "2      0  STON/O2. 3101282   7.9250   NaN        S  \n",
       "3      0            113803  53.1000  C123        S  \n",
       "4      0            373450   8.0500   NaN        S  "
      ]
     },
     "execution_count": 2,
     "metadata": {},
     "output_type": "execute_result"
    }
   ],
   "source": [
    "dataset = pd.read_csv(\"train.csv\")\n",
    "dataset.head()"
   ]
  },
  {
   "cell_type": "code",
   "execution_count": 3,
   "id": "f7517634-ef7a-437d-b383-b3744fff8119",
   "metadata": {},
   "outputs": [],
   "source": [
    "# Now let's find the range of person's Age group who had been travelling in titanic."
   ]
  },
  {
   "cell_type": "code",
   "execution_count": 4,
   "id": "62d827c2-2877-4715-b335-f41dc692c79e",
   "metadata": {},
   "outputs": [
    {
     "data": {
      "text/plain": [
       "0.42"
      ]
     },
     "execution_count": 4,
     "metadata": {},
     "output_type": "execute_result"
    }
   ],
   "source": [
    "min_r = dataset['Age'].min()\n",
    "min_r"
   ]
  },
  {
   "cell_type": "code",
   "execution_count": 5,
   "id": "8ece140c-976a-4362-b0a2-e85293a6f1ad",
   "metadata": {},
   "outputs": [
    {
     "data": {
      "text/plain": [
       "80.0"
      ]
     },
     "execution_count": 5,
     "metadata": {},
     "output_type": "execute_result"
    }
   ],
   "source": [
    "max_r = dataset['Age'].max()\n",
    "max_r"
   ]
  },
  {
   "cell_type": "code",
   "execution_count": 6,
   "id": "fab1f109-23a8-4912-9499-b7bd32195ae2",
   "metadata": {},
   "outputs": [
    {
     "data": {
      "text/plain": [
       "79.58"
      ]
     },
     "execution_count": 6,
     "metadata": {},
     "output_type": "execute_result"
    }
   ],
   "source": [
    "range = max_r-min_r\n",
    "range"
   ]
  },
  {
   "cell_type": "markdown",
   "id": "35dd8fab-ef23-4e3d-991e-020a384ca500",
   "metadata": {},
   "source": [
    "### Mean Absolute Deviation\n",
    "The mean absolute deviation of a dataset is the average distance between each data point and the mean.\n",
    "\n",
    "It gives us an idea about the variability in a dataset."
   ]
  },
  {
   "cell_type": "markdown",
   "id": "b577a978-6383-4ceb-8110-03758ab655ed",
   "metadata": {},
   "source": [
    "$ \\text{MAD}=\\dfrac{\\sum{\\lvert x_i-\\bar{x} \\rvert}}{n} $"
   ]
  },
  {
   "cell_type": "markdown",
   "id": "6b0c978e-78e2-4e25-9ba6-9ce0bc6c8148",
   "metadata": {},
   "source": [
    "where,\n",
    "\n",
    "\n",
    "##### MAN  \n",
    "is the average absolute deviation,\n",
    "\n",
    "\n",
    "##### x̄ \n",
    "is the mean of data set,\n",
    "\n",
    "\n",
    "##### Σ  (xi – x̄) \n",
    "is the summation of deviations from mean,\n",
    "\n",
    "\n",
    "##### n \n",
    "is the number of values in data set.\n",
    "\n",
    "\n"
   ]
  },
  {
   "cell_type": "markdown",
   "id": "52613f0f-7499-4bfe-ab51-31a893cfeeaa",
   "metadata": {},
   "source": [
    "#### Example\n",
    "\n",
    "Erica enjoys posting pictures of her cat online. Here's how many \"likes\" the past \n",
    "\\[6\\] pictures each received:\n",
    "\n",
    "#### 10,15,15,17,18,21\n"
   ]
  },
  {
   "cell_type": "markdown",
   "id": "f402be14-5ccf-4b50-9e91-a1576460f510",
   "metadata": {},
   "source": [
    "#### Find the mean absolute deviation."
   ]
  },
  {
   "cell_type": "markdown",
   "id": "7e79e1ad-0f25-4235-aa35-b79ea3a705e9",
   "metadata": {},
   "source": [
    "#### Step 1: Calculate the mean.\n",
    "\n",
    "The sum of the data is \n",
    "\\[96\\] total \"likes\" and there are \n",
    "\\[6\\] pictures.\n",
    " \n",
    "$ [{mean}=\\dfrac{96}{6}=16]$\n",
    "\n",
    " the mean is\n",
    "\\[16\\]."
   ]
  },
  {
   "cell_type": "markdown",
   "id": "07c10cc6-e08c-4a1c-a4d6-62094e6c71a5",
   "metadata": {},
   "source": [
    "#### Step 2: Calculate the distance between each data point and the mean.\n",
    "Data point\tDistance from mean\n"
   ]
  },
  {
   "cell_type": "code",
   "execution_count": 7,
   "id": "286eb782-ba7b-46f4-a85f-6b109095ea00",
   "metadata": {},
   "outputs": [
    {
     "data": {
      "text/html": [
       "<div>\n",
       "<style scoped>\n",
       "    .dataframe tbody tr th:only-of-type {\n",
       "        vertical-align: middle;\n",
       "    }\n",
       "\n",
       "    .dataframe tbody tr th {\n",
       "        vertical-align: top;\n",
       "    }\n",
       "\n",
       "    .dataframe thead th {\n",
       "        text-align: right;\n",
       "    }\n",
       "</style>\n",
       "<table border=\"1\" class=\"dataframe\">\n",
       "  <thead>\n",
       "    <tr style=\"text-align: right;\">\n",
       "      <th></th>\n",
       "      <th>Data_point</th>\n",
       "      <th>distance_from_mean</th>\n",
       "      <th>value_get</th>\n",
       "    </tr>\n",
       "  </thead>\n",
       "  <tbody>\n",
       "    <tr>\n",
       "      <th>0</th>\n",
       "      <td>10</td>\n",
       "      <td>10-16</td>\n",
       "      <td>6</td>\n",
       "    </tr>\n",
       "    <tr>\n",
       "      <th>1</th>\n",
       "      <td>15</td>\n",
       "      <td>15-16</td>\n",
       "      <td>1</td>\n",
       "    </tr>\n",
       "    <tr>\n",
       "      <th>2</th>\n",
       "      <td>15</td>\n",
       "      <td>15-16</td>\n",
       "      <td>1</td>\n",
       "    </tr>\n",
       "    <tr>\n",
       "      <th>3</th>\n",
       "      <td>17</td>\n",
       "      <td>17-16</td>\n",
       "      <td>1</td>\n",
       "    </tr>\n",
       "    <tr>\n",
       "      <th>4</th>\n",
       "      <td>18</td>\n",
       "      <td>18-16</td>\n",
       "      <td>2</td>\n",
       "    </tr>\n",
       "  </tbody>\n",
       "</table>\n",
       "</div>"
      ],
      "text/plain": [
       "   Data_point distance_from_mean  value_get\n",
       "0          10              10-16          6\n",
       "1          15              15-16          1\n",
       "2          15              15-16          1\n",
       "3          17              17-16          1\n",
       "4          18              18-16          2"
      ]
     },
     "execution_count": 7,
     "metadata": {},
     "output_type": "execute_result"
    }
   ],
   "source": [
    "# create dataframe first\n",
    "data ={'Data_point':[10,15,15,17,18,21],\\\n",
    "       'distance_from_mean':['10-16','15-16','15-16','17-16','18-16','21-16'],\\\n",
    "       'value_get':[6,1,1,1,2,5]}\n",
    "df =pd.DataFrame(data)\n",
    "df.head()\n"
   ]
  },
  {
   "cell_type": "markdown",
   "id": "ff37a70c-1ae9-4310-a2fd-e6d04766124d",
   "metadata": {},
   "source": [
    "#### Step 3: Add the distances together.\n",
    "\n",
    "#### [6+1+1+1+2+5=16]\n",
    "\n",
    "#### Step 4: Divide the sum by the number of data points.\n",
    " \n",
    "$[{MAD}=\\dfrac{16}{6}\\approx2.67] likes$\n",
    "\n",
    "On average, each picture was about 3 likes away from mean."
   ]
  },
  {
   "cell_type": "markdown",
   "id": "178b648e-9555-4671-b946-b59b316e61b5",
   "metadata": {},
   "source": [
    "#### Example from titanic dataset"
   ]
  },
  {
   "cell_type": "code",
   "execution_count": 8,
   "id": "e382c5b0-c934-4a32-8191-4cf071ee8f3d",
   "metadata": {},
   "outputs": [
    {
     "data": {
      "text/html": [
       "<div>\n",
       "<style scoped>\n",
       "    .dataframe tbody tr th:only-of-type {\n",
       "        vertical-align: middle;\n",
       "    }\n",
       "\n",
       "    .dataframe tbody tr th {\n",
       "        vertical-align: top;\n",
       "    }\n",
       "\n",
       "    .dataframe thead th {\n",
       "        text-align: right;\n",
       "    }\n",
       "</style>\n",
       "<table border=\"1\" class=\"dataframe\">\n",
       "  <thead>\n",
       "    <tr style=\"text-align: right;\">\n",
       "      <th></th>\n",
       "      <th>Name</th>\n",
       "      <th>Maths_Score</th>\n",
       "    </tr>\n",
       "  </thead>\n",
       "  <tbody>\n",
       "    <tr>\n",
       "      <th>0</th>\n",
       "      <td>Tao</td>\n",
       "      <td>75</td>\n",
       "    </tr>\n",
       "    <tr>\n",
       "      <th>1</th>\n",
       "      <td>Sofia</td>\n",
       "      <td>65</td>\n",
       "    </tr>\n",
       "    <tr>\n",
       "      <th>2</th>\n",
       "      <td>Nina</td>\n",
       "      <td>73</td>\n",
       "    </tr>\n",
       "    <tr>\n",
       "      <th>3</th>\n",
       "      <td>Rafiq</td>\n",
       "      <td>68</td>\n",
       "    </tr>\n",
       "    <tr>\n",
       "      <th>4</th>\n",
       "      <td>Rob</td>\n",
       "      <td>72</td>\n",
       "    </tr>\n",
       "    <tr>\n",
       "      <th>5</th>\n",
       "      <td>Ram</td>\n",
       "      <td>67</td>\n",
       "    </tr>\n",
       "  </tbody>\n",
       "</table>\n",
       "</div>"
      ],
      "text/plain": [
       "    Name  Maths_Score\n",
       "0    Tao           75\n",
       "1  Sofia           65\n",
       "2   Nina           73\n",
       "3  Rafiq           68\n",
       "4    Rob           72\n",
       "5    Ram           67"
      ]
     },
     "execution_count": 8,
     "metadata": {},
     "output_type": "execute_result"
    }
   ],
   "source": [
    "a ={\"Name\" : [\"Tao\",\"Sofia\",\"Nina\",\"Rafiq\",\"Rob\",\"Ram\"],\n",
    "      \"Maths_Score\" : [75,65,73,68,72,67]}\n",
    "\n",
    "df= pd.DataFrame(a)\n",
    "df"
   ]
  },
  {
   "cell_type": "code",
   "execution_count": 9,
   "id": "556b8ae1-a3da-48a7-b4a9-f4ad56c20d38",
   "metadata": {},
   "outputs": [
    {
     "data": {
      "text/html": [
       "<div>\n",
       "<style scoped>\n",
       "    .dataframe tbody tr th:only-of-type {\n",
       "        vertical-align: middle;\n",
       "    }\n",
       "\n",
       "    .dataframe tbody tr th {\n",
       "        vertical-align: top;\n",
       "    }\n",
       "\n",
       "    .dataframe thead th {\n",
       "        text-align: right;\n",
       "    }\n",
       "</style>\n",
       "<table border=\"1\" class=\"dataframe\">\n",
       "  <thead>\n",
       "    <tr style=\"text-align: right;\">\n",
       "      <th></th>\n",
       "      <th>Name</th>\n",
       "      <th>Maths_Score</th>\n",
       "    </tr>\n",
       "  </thead>\n",
       "  <tbody>\n",
       "    <tr>\n",
       "      <th>0</th>\n",
       "      <td>Tao</td>\n",
       "      <td>90</td>\n",
       "    </tr>\n",
       "    <tr>\n",
       "      <th>1</th>\n",
       "      <td>Sofia</td>\n",
       "      <td>47</td>\n",
       "    </tr>\n",
       "    <tr>\n",
       "      <th>2</th>\n",
       "      <td>Nina</td>\n",
       "      <td>43</td>\n",
       "    </tr>\n",
       "    <tr>\n",
       "      <th>3</th>\n",
       "      <td>Rafiq</td>\n",
       "      <td>96</td>\n",
       "    </tr>\n",
       "    <tr>\n",
       "      <th>4</th>\n",
       "      <td>Rob</td>\n",
       "      <td>93</td>\n",
       "    </tr>\n",
       "    <tr>\n",
       "      <th>5</th>\n",
       "      <td>Ram</td>\n",
       "      <td>51</td>\n",
       "    </tr>\n",
       "  </tbody>\n",
       "</table>\n",
       "</div>"
      ],
      "text/plain": [
       "    Name  Maths_Score\n",
       "0    Tao           90\n",
       "1  Sofia           47\n",
       "2   Nina           43\n",
       "3  Rafiq           96\n",
       "4    Rob           93\n",
       "5    Ram           51"
      ]
     },
     "execution_count": 9,
     "metadata": {},
     "output_type": "execute_result"
    }
   ],
   "source": [
    "b ={\"Name\" : [\"Tao\",\"Sofia\",\"Nina\",\"Rafiq\",\"Rob\",\"Ram\"],\n",
    "      \"Maths_Score\" : [90,47,43,96,93,51]}\n",
    "\n",
    "df= pd.DataFrame(b)\n",
    "df"
   ]
  },
  {
   "cell_type": "code",
   "execution_count": 10,
   "id": "eb39a04c-1a3b-43f8-bd5e-d86229974e65",
   "metadata": {},
   "outputs": [],
   "source": [
    "# suppose there is two sections A and B\n",
    "sec_a =np.array([75,65,73,68,72,76])\n",
    "sec_b =np.array([90,47,43,96,93,51])\n",
    "no = np.array([1,2,3,4,5,6])"
   ]
  },
  {
   "cell_type": "markdown",
   "id": "d3ce89e5-2ac3-4d3c-a603-cff012cf240c",
   "metadata": {},
   "source": [
    "##### Calculating mean"
   ]
  },
  {
   "cell_type": "code",
   "execution_count": 11,
   "id": "fb09676c-0d22-4349-ae47-42d4de225085",
   "metadata": {},
   "outputs": [
    {
     "data": {
      "text/plain": [
       "71.5"
      ]
     },
     "execution_count": 11,
     "metadata": {},
     "output_type": "execute_result"
    }
   ],
   "source": [
    "mean=np.mean(sec_a)\n",
    "mean"
   ]
  },
  {
   "cell_type": "code",
   "execution_count": 12,
   "id": "1442b15e-b15d-4930-8a6a-d3887c87f816",
   "metadata": {},
   "outputs": [
    {
     "data": {
      "text/plain": [
       "70.0"
      ]
     },
     "execution_count": 12,
     "metadata": {},
     "output_type": "execute_result"
    }
   ],
   "source": [
    "mean=np.mean(sec_b)\n",
    "mean"
   ]
  },
  {
   "cell_type": "markdown",
   "id": "3eb62a55-d5d5-48db-b794-159bab080136",
   "metadata": {},
   "source": [
    "##### Calculating mean absolute division"
   ]
  },
  {
   "cell_type": "code",
   "execution_count": 13,
   "id": "fe7247e7-214a-46cc-9a94-a8b1b5e63ba3",
   "metadata": {},
   "outputs": [
    {
     "data": {
      "text/plain": [
       "array([ 5., -5.,  3., -2.,  2.,  6.])"
      ]
     },
     "execution_count": 13,
     "metadata": {},
     "output_type": "execute_result"
    }
   ],
   "source": [
    "sec_a - mean"
   ]
  },
  {
   "cell_type": "markdown",
   "id": "89d756ee-868c-47cf-aead-30c177356abf",
   "metadata": {},
   "source": [
    "##### Calculating absolute value"
   ]
  },
  {
   "cell_type": "code",
   "execution_count": 14,
   "id": "3a1649ab-0b76-4223-9cf3-5fa20458bfde",
   "metadata": {},
   "outputs": [
    {
     "data": {
      "text/plain": [
       "array([5., 5., 3., 2., 2., 6.])"
      ]
     },
     "execution_count": 14,
     "metadata": {},
     "output_type": "execute_result"
    }
   ],
   "source": [
    "np.abs(sec_a -mean)"
   ]
  },
  {
   "cell_type": "markdown",
   "id": "be05b909-20de-45cf-b98e-394d3207059c",
   "metadata": {},
   "source": [
    "##### calculating the sum"
   ]
  },
  {
   "cell_type": "code",
   "execution_count": 15,
   "id": "ae7ccc60-fc1c-4241-a741-a2646082d1d8",
   "metadata": {},
   "outputs": [
    {
     "data": {
      "text/plain": [
       "23.0"
      ]
     },
     "execution_count": 15,
     "metadata": {},
     "output_type": "execute_result"
    }
   ],
   "source": [
    "np.sum(np.abs(sec_a -mean))"
   ]
  },
  {
   "cell_type": "markdown",
   "id": "c6672e81-716c-49cb-ad8a-0caf87238c61",
   "metadata": {},
   "source": [
    "##### Now dividion"
   ]
  },
  {
   "cell_type": "code",
   "execution_count": 16,
   "id": "deeb7b08-78d5-4da6-9637-0efd83ed3261",
   "metadata": {},
   "outputs": [],
   "source": [
    "# we will get a mean absolute division for sec_a\n",
    "\n",
    "mad_a = np.sum(np.abs(sec_a -mean))/len(sec_a)"
   ]
  },
  {
   "cell_type": "code",
   "execution_count": 17,
   "id": "1f7bfb5e-2044-4c93-8e5a-1631050da130",
   "metadata": {},
   "outputs": [],
   "source": [
    "# mean absolute division for sec_b\n",
    "\n",
    "mad_b = np.sum(np.abs(sec_b -mean))/len(sec_b)\n"
   ]
  },
  {
   "cell_type": "code",
   "execution_count": 18,
   "id": "63af9c02-9d3c-4219-8fac-ce82a1c7104c",
   "metadata": {},
   "outputs": [
    {
     "data": {
      "text/plain": [
       "(3.8333333333333335, 23.0)"
      ]
     },
     "execution_count": 18,
     "metadata": {},
     "output_type": "execute_result"
    }
   ],
   "source": [
    "mad_a,mad_b    # mad_b > mad_a"
   ]
  },
  {
   "cell_type": "markdown",
   "id": "75c85189-e578-450c-98a3-8c611e3c0577",
   "metadata": {},
   "source": [
    "#### conclusion\n",
    "\n",
    "we get 2 mean absolute division (MAD) value for 2 data in our real time data.\n",
    "\n",
    "one is greater value and other is lower value. \n",
    "\n",
    "checking which data has lowest mean absolute division \n",
    "\n",
    "here, mad_b > mad_a  , so we will take (mad_a) which have lowest value so we will consider this (mad_a) data.\n",
    "\n",
    "This problem is used basically when we have data with high spreadness.    "
   ]
  },
  {
   "cell_type": "code",
   "execution_count": 19,
   "id": "fce1f8a0-4d9f-4405-b0e9-f6e35f185888",
   "metadata": {},
   "outputs": [],
   "source": [
    "# we can also draw mean line on graph"
   ]
  },
  {
   "cell_type": "code",
   "execution_count": 20,
   "id": "b75084a0-5f68-4c45-88c7-8a5220484fe6",
   "metadata": {},
   "outputs": [
    {
     "data": {
      "image/png": "[encoded data removed]",
      "text/plain": [
       "<Figure size 1000x300 with 1 Axes>"
      ]
     },
     "metadata": {},
     "output_type": "display_data"
    }
   ],
   "source": [
    "plt.figure(figsize=(10,3))\n",
    "plt.scatter(sec_a,no, label=\"sec_A\")\n",
    "plt.scatter(sec_b,no, color= 'red',label=\"sec_B\")\n",
    "plt.plot([70,70,70,70,70,70],no,color= 'blue',label='mean')\n",
    "\n",
    "plt.legend()\n",
    "plt.show()"
   ]
  },
  {
   "cell_type": "markdown",
   "id": "8e8e06e7-e377-4a87-8f82-b40325e92ae9",
   "metadata": {},
   "source": [
    "##### Sometime we get same mean absolute division value (MAD) for 2 data\n",
    "##### i.e, two data have the same MAD value.\n",
    "##### so, in this case we use Standard Deviation there."
   ]
  },
  {
   "cell_type": "markdown",
   "id": "a4d7f259-4f04-4806-a9ef-458c43d8777e",
   "metadata": {},
   "source": [
    "## Standard Deviation\n",
    "The Standard Deviation is the measure of the amount of variation of dispersion of a set of values.\n",
    "\n",
    "A low standard deviation indicates that the values tend to be close to the mean (also called the expected value) of the set.\n",
    "\n",
    "While, a high standard deviationindicates the the values spread out over a wide range."
   ]
  },
  {
   "cell_type": "markdown",
   "id": "116e6fc0-9526-4357-94c2-bb404cd86bd6",
   "metadata": {},
   "source": [
    "### Standard Deviation formula \n",
    "\n",
    "\n",
    " \n",
    "\n"
   ]
  },
  {
   "attachments": {
    "63d1d9ea-cc95-4e86-81ce-60f5200d1733.png": {
     "image/png": "[encoded data removed]"
    }
   },
   "cell_type": "markdown",
   "id": "c2551e33-753b-4a51-a7a3-0fdbd177e223",
   "metadata": {},
   "source": [
    "![Standard Deviation - Formula, Examples & How to Calculate - Google Chrome 16-11-2024 13_54_18.png](attachment:63d1d9ea-cc95-4e86-81ce-60f5200d1733.png)"
   ]
  },
  {
   "cell_type": "markdown",
   "id": "b1548790-2037-43a9-a48c-0628898e6128",
   "metadata": {},
   "source": [
    "#### std and variance are same we can use either std or variance in our real time data."
   ]
  },
  {
   "cell_type": "markdown",
   "id": "3a0e917b-799b-4422-b805-063d3de65ab6",
   "metadata": {},
   "source": [
    "## Variance\n",
    "Variance is a measure of how data point differ from the mean. \n",
    "\n",
    "According to Layman, a variance is a measure of how far a set of data (numbers) are spread out from their mean (average) value"
   ]
  },
  {
   "attachments": {
    "54d95dc9-0750-4d99-a01f-99e838c5a0a7.png": {
     "image/png": "[encoded data removed]"
    }
   },
   "cell_type": "markdown",
   "id": "b942902d-dec7-4842-8080-213a1937e4e2",
   "metadata": {},
   "source": [
    "![IBM ML0122ENv3 Certificate _ Cognitive Class - Google Chrome 16-11-2024 14_19_58.png](attachment:54d95dc9-0750-4d99-a01f-99e838c5a0a7.png)"
   ]
  },
  {
   "cell_type": "markdown",
   "id": "0a022fc5-9367-4db0-8319-48e740322d8a",
   "metadata": {},
   "source": [
    "#### Relation between standard Deviation (STD) and Variance\n",
    "\n",
    "when we do square root of standard devation then we get variance.\n",
    "\n",
    "#### (std)2 = Variance\n",
    "\n",
    "Variance is also same as standard deviation.\n",
    "\n",
    "like we were considering only those data having the lowest value in Mean Absolute Devision (MAD), \n",
    "\n",
    "Same in Variance also we will consider those data which contains the lowest variance value of the two data."
   ]
  },
  {
   "cell_type": "code",
   "execution_count": 21,
   "id": "40e8f738-2c4b-4367-a6b6-7e2762b40fbf",
   "metadata": {},
   "outputs": [],
   "source": [
    "# let do this practically\n",
    "\n",
    "sec_a =np.array([75,65,73,68,72,76])\n",
    "sec_b =np.array([90,47,43,96,93,51])"
   ]
  },
  {
   "cell_type": "code",
   "execution_count": 22,
   "id": "690067f3-2740-41e2-b9ba-529df824699d",
   "metadata": {},
   "outputs": [
    {
     "data": {
      "text/plain": [
       "(3.8622100754188224, 23.18045153428495)"
      ]
     },
     "execution_count": 22,
     "metadata": {},
     "output_type": "execute_result"
    }
   ],
   "source": [
    "# first calculate std of sec_a and sec_b\n",
    "np.std(sec_a),np.std(sec_b)"
   ]
  },
  {
   "cell_type": "code",
   "execution_count": 23,
   "id": "45aec1ca-cf85-4e2d-a07b-bdcd0b1f09dc",
   "metadata": {},
   "outputs": [],
   "source": [
    "# we already observed before that sec_a having the lowest (std) than sec_b  so, we will consider the lowest value in Variance also ."
   ]
  },
  {
   "cell_type": "code",
   "execution_count": 24,
   "id": "57dfe260-d7dc-4c3c-b8b1-47fb14e12cdd",
   "metadata": {},
   "outputs": [
    {
     "data": {
      "text/plain": [
       "(14.916666666666666, 537.3333333333334)"
      ]
     },
     "execution_count": 24,
     "metadata": {},
     "output_type": "execute_result"
    }
   ],
   "source": [
    "# now calculate Variance\n",
    "\n",
    "np.var(sec_a), np.var(sec_b)"
   ]
  },
  {
   "cell_type": "code",
   "execution_count": 25,
   "id": "b54c3d89-e00c-40d7-8785-ab03bc126737",
   "metadata": {},
   "outputs": [],
   "source": [
    "# sec_a < sec_b so here we will consider the lowest value sec_a "
   ]
  },
  {
   "cell_type": "code",
   "execution_count": 26,
   "id": "92d93cc8-fe3b-49f2-954b-e976efa302a8",
   "metadata": {},
   "outputs": [
    {
     "data": {
      "text/plain": [
       "14.916666666666666"
      ]
     },
     "execution_count": 26,
     "metadata": {},
     "output_type": "execute_result"
    }
   ],
   "source": [
    "# we already know square root of standard deviation (std) is Variance let's find it out practically by doing square root of std value of sec_a,\n",
    "# we will get the same variance value like 14.916......\n",
    "\n",
    "(3.8622100754188224)**2"
   ]
  },
  {
   "cell_type": "code",
   "execution_count": null,
   "id": "7c8b59b2-2640-4d94-8574-88b3a5635618",
   "metadata": {},
   "outputs": [],
   "source": []
  },
  {
   "cell_type": "markdown",
   "id": "be0eae96-ce87-4469-9907-1185f9b68e2d",
   "metadata": {},
   "source": [
    "### Spreadness of data \n",
    "If we talk about the spreadness of data for a particular column , we have to observe the lowest standard deviation and variance values.\n",
    "\n",
    "suppose we wet a value more than 10, spreadness of data will be more.\n",
    "\n",
    "if the value will be less than 10, spreadness is less.\n",
    "\n",
    "#### value>10 = more spreadness\n",
    "\n",
    "#### value<10 =less spreadness"
   ]
  },
  {
   "cell_type": "code",
   "execution_count": 27,
   "id": "b45d409f-bb2d-4387-a45e-a93fde92eaa3",
   "metadata": {},
   "outputs": [
    {
     "data": {
      "text/html": [
       "<div>\n",
       "<style scoped>\n",
       "    .dataframe tbody tr th:only-of-type {\n",
       "        vertical-align: middle;\n",
       "    }\n",
       "\n",
       "    .dataframe tbody tr th {\n",
       "        vertical-align: top;\n",
       "    }\n",
       "\n",
       "    .dataframe thead th {\n",
       "        text-align: right;\n",
       "    }\n",
       "</style>\n",
       "<table border=\"1\" class=\"dataframe\">\n",
       "  <thead>\n",
       "    <tr style=\"text-align: right;\">\n",
       "      <th></th>\n",
       "      <th>PassengerId</th>\n",
       "      <th>Survived</th>\n",
       "      <th>Pclass</th>\n",
       "      <th>Name</th>\n",
       "      <th>Sex</th>\n",
       "      <th>Age</th>\n",
       "      <th>SibSp</th>\n",
       "      <th>Parch</th>\n",
       "      <th>Ticket</th>\n",
       "      <th>Fare</th>\n",
       "      <th>Cabin</th>\n",
       "      <th>Embarked</th>\n",
       "    </tr>\n",
       "  </thead>\n",
       "  <tbody>\n",
       "    <tr>\n",
       "      <th>0</th>\n",
       "      <td>1</td>\n",
       "      <td>0</td>\n",
       "      <td>3</td>\n",
       "      <td>Braund, Mr. Owen Harris</td>\n",
       "      <td>male</td>\n",
       "      <td>22.0</td>\n",
       "      <td>1</td>\n",
       "      <td>0</td>\n",
       "      <td>A/5 21171</td>\n",
       "      <td>7.2500</td>\n",
       "      <td>NaN</td>\n",
       "      <td>S</td>\n",
       "    </tr>\n",
       "    <tr>\n",
       "      <th>1</th>\n",
       "      <td>2</td>\n",
       "      <td>1</td>\n",
       "      <td>1</td>\n",
       "      <td>Cumings, Mrs. John Bradley (Florence Briggs Th...</td>\n",
       "      <td>female</td>\n",
       "      <td>38.0</td>\n",
       "      <td>1</td>\n",
       "      <td>0</td>\n",
       "      <td>PC 17599</td>\n",
       "      <td>71.2833</td>\n",
       "      <td>C85</td>\n",
       "      <td>C</td>\n",
       "    </tr>\n",
       "    <tr>\n",
       "      <th>2</th>\n",
       "      <td>3</td>\n",
       "      <td>1</td>\n",
       "      <td>3</td>\n",
       "      <td>Heikkinen, Miss. Laina</td>\n",
       "      <td>female</td>\n",
       "      <td>26.0</td>\n",
       "      <td>0</td>\n",
       "      <td>0</td>\n",
       "      <td>STON/O2. 3101282</td>\n",
       "      <td>7.9250</td>\n",
       "      <td>NaN</td>\n",
       "      <td>S</td>\n",
       "    </tr>\n",
       "    <tr>\n",
       "      <th>3</th>\n",
       "      <td>4</td>\n",
       "      <td>1</td>\n",
       "      <td>1</td>\n",
       "      <td>Futrelle, Mrs. Jacques Heath (Lily May Peel)</td>\n",
       "      <td>female</td>\n",
       "      <td>35.0</td>\n",
       "      <td>1</td>\n",
       "      <td>0</td>\n",
       "      <td>113803</td>\n",
       "      <td>53.1000</td>\n",
       "      <td>C123</td>\n",
       "      <td>S</td>\n",
       "    </tr>\n",
       "    <tr>\n",
       "      <th>4</th>\n",
       "      <td>5</td>\n",
       "      <td>0</td>\n",
       "      <td>3</td>\n",
       "      <td>Allen, Mr. William Henry</td>\n",
       "      <td>male</td>\n",
       "      <td>35.0</td>\n",
       "      <td>0</td>\n",
       "      <td>0</td>\n",
       "      <td>373450</td>\n",
       "      <td>8.0500</td>\n",
       "      <td>NaN</td>\n",
       "      <td>S</td>\n",
       "    </tr>\n",
       "  </tbody>\n",
       "</table>\n",
       "</div>"
      ],
      "text/plain": [
       "   PassengerId  Survived  Pclass  \\\n",
       "0            1         0       3   \n",
       "1            2         1       1   \n",
       "2            3         1       3   \n",
       "3            4         1       1   \n",
       "4            5         0       3   \n",
       "\n",
       "                                                Name     Sex   Age  SibSp  \\\n",
       "0                            Braund, Mr. Owen Harris    male  22.0      1   \n",
       "1  Cumings, Mrs. John Bradley (Florence Briggs Th...  female  38.0      1   \n",
       "2                             Heikkinen, Miss. Laina  female  26.0      0   \n",
       "3       Futrelle, Mrs. Jacques Heath (Lily May Peel)  female  35.0      1   \n",
       "4                           Allen, Mr. William Henry    male  35.0      0   \n",
       "\n",
       "   Parch            Ticket     Fare Cabin Embarked  \n",
       "0      0         A/5 21171   7.2500   NaN        S  \n",
       "1      0          PC 17599  71.2833   C85        C  \n",
       "2      0  STON/O2. 3101282   7.9250   NaN        S  \n",
       "3      0            113803  53.1000  C123        S  \n",
       "4      0            373450   8.0500   NaN        S  "
      ]
     },
     "execution_count": 27,
     "metadata": {},
     "output_type": "execute_result"
    }
   ],
   "source": [
    "dataset.head()"
   ]
  },
  {
   "cell_type": "code",
   "execution_count": 28,
   "id": "5625a461-2c17-489c-9ccb-11ea884e13b7",
   "metadata": {},
   "outputs": [
    {
     "data": {
      "text/plain": [
       "211.01912474630802"
      ]
     },
     "execution_count": 28,
     "metadata": {},
     "output_type": "execute_result"
    }
   ],
   "source": [
    "dataset['Age'].var()"
   ]
  },
  {
   "cell_type": "code",
   "execution_count": 29,
   "id": "44c9d309-10c2-4e2a-9543-5f266803b9a2",
   "metadata": {},
   "outputs": [
    {
     "data": {
      "text/plain": [
       "210.72357975366614"
      ]
     },
     "execution_count": 29,
     "metadata": {},
     "output_type": "execute_result"
    }
   ],
   "source": [
    "np.var(dataset['Age'])"
   ]
  },
  {
   "cell_type": "code",
   "execution_count": 30,
   "id": "0204f84b-f206-4c82-8868-bdd8710a525f",
   "metadata": {},
   "outputs": [
    {
     "data": {
      "text/plain": [
       "14.526497332334042"
      ]
     },
     "execution_count": 30,
     "metadata": {},
     "output_type": "execute_result"
    }
   ],
   "source": [
    "dataset['Age'].std()"
   ]
  },
  {
   "cell_type": "code",
   "execution_count": 31,
   "id": "b4b331d1-95fa-4dae-9ac0-3e48161c5067",
   "metadata": {},
   "outputs": [
    {
     "data": {
      "text/html": [
       "<div>\n",
       "<style scoped>\n",
       "    .dataframe tbody tr th:only-of-type {\n",
       "        vertical-align: middle;\n",
       "    }\n",
       "\n",
       "    .dataframe tbody tr th {\n",
       "        vertical-align: top;\n",
       "    }\n",
       "\n",
       "    .dataframe thead th {\n",
       "        text-align: right;\n",
       "    }\n",
       "</style>\n",
       "<table border=\"1\" class=\"dataframe\">\n",
       "  <thead>\n",
       "    <tr style=\"text-align: right;\">\n",
       "      <th></th>\n",
       "      <th>PassengerId</th>\n",
       "      <th>Survived</th>\n",
       "      <th>Pclass</th>\n",
       "      <th>Age</th>\n",
       "      <th>SibSp</th>\n",
       "      <th>Parch</th>\n",
       "      <th>Fare</th>\n",
       "    </tr>\n",
       "  </thead>\n",
       "  <tbody>\n",
       "    <tr>\n",
       "      <th>count</th>\n",
       "      <td>891.000000</td>\n",
       "      <td>891.000000</td>\n",
       "      <td>891.000000</td>\n",
       "      <td>714.000000</td>\n",
       "      <td>891.000000</td>\n",
       "      <td>891.000000</td>\n",
       "      <td>891.000000</td>\n",
       "    </tr>\n",
       "    <tr>\n",
       "      <th>mean</th>\n",
       "      <td>446.000000</td>\n",
       "      <td>0.383838</td>\n",
       "      <td>2.308642</td>\n",
       "      <td>29.699118</td>\n",
       "      <td>0.523008</td>\n",
       "      <td>0.381594</td>\n",
       "      <td>32.204208</td>\n",
       "    </tr>\n",
       "    <tr>\n",
       "      <th>std</th>\n",
       "      <td>257.353842</td>\n",
       "      <td>0.486592</td>\n",
       "      <td>0.836071</td>\n",
       "      <td>14.526497</td>\n",
       "      <td>1.102743</td>\n",
       "      <td>0.806057</td>\n",
       "      <td>49.693429</td>\n",
       "    </tr>\n",
       "    <tr>\n",
       "      <th>min</th>\n",
       "      <td>1.000000</td>\n",
       "      <td>0.000000</td>\n",
       "      <td>1.000000</td>\n",
       "      <td>0.420000</td>\n",
       "      <td>0.000000</td>\n",
       "      <td>0.000000</td>\n",
       "      <td>0.000000</td>\n",
       "    </tr>\n",
       "    <tr>\n",
       "      <th>25%</th>\n",
       "      <td>223.500000</td>\n",
       "      <td>0.000000</td>\n",
       "      <td>2.000000</td>\n",
       "      <td>20.125000</td>\n",
       "      <td>0.000000</td>\n",
       "      <td>0.000000</td>\n",
       "      <td>7.910400</td>\n",
       "    </tr>\n",
       "    <tr>\n",
       "      <th>50%</th>\n",
       "      <td>446.000000</td>\n",
       "      <td>0.000000</td>\n",
       "      <td>3.000000</td>\n",
       "      <td>28.000000</td>\n",
       "      <td>0.000000</td>\n",
       "      <td>0.000000</td>\n",
       "      <td>14.454200</td>\n",
       "    </tr>\n",
       "    <tr>\n",
       "      <th>75%</th>\n",
       "      <td>668.500000</td>\n",
       "      <td>1.000000</td>\n",
       "      <td>3.000000</td>\n",
       "      <td>38.000000</td>\n",
       "      <td>1.000000</td>\n",
       "      <td>0.000000</td>\n",
       "      <td>31.000000</td>\n",
       "    </tr>\n",
       "    <tr>\n",
       "      <th>max</th>\n",
       "      <td>891.000000</td>\n",
       "      <td>1.000000</td>\n",
       "      <td>3.000000</td>\n",
       "      <td>80.000000</td>\n",
       "      <td>8.000000</td>\n",
       "      <td>6.000000</td>\n",
       "      <td>512.329200</td>\n",
       "    </tr>\n",
       "  </tbody>\n",
       "</table>\n",
       "</div>"
      ],
      "text/plain": [
       "       PassengerId    Survived      Pclass         Age       SibSp  \\\n",
       "count   891.000000  891.000000  891.000000  714.000000  891.000000   \n",
       "mean    446.000000    0.383838    2.308642   29.699118    0.523008   \n",
       "std     257.353842    0.486592    0.836071   14.526497    1.102743   \n",
       "min       1.000000    0.000000    1.000000    0.420000    0.000000   \n",
       "25%     223.500000    0.000000    2.000000   20.125000    0.000000   \n",
       "50%     446.000000    0.000000    3.000000   28.000000    0.000000   \n",
       "75%     668.500000    1.000000    3.000000   38.000000    1.000000   \n",
       "max     891.000000    1.000000    3.000000   80.000000    8.000000   \n",
       "\n",
       "            Parch        Fare  \n",
       "count  891.000000  891.000000  \n",
       "mean     0.381594   32.204208  \n",
       "std      0.806057   49.693429  \n",
       "min      0.000000    0.000000  \n",
       "25%      0.000000    7.910400  \n",
       "50%      0.000000   14.454200  \n",
       "75%      0.000000   31.000000  \n",
       "max      6.000000  512.329200  "
      ]
     },
     "execution_count": 31,
     "metadata": {},
     "output_type": "execute_result"
    }
   ],
   "source": [
    "dataset.describe()"
   ]
  },
  {
   "cell_type": "code",
   "execution_count": 32,
   "id": "0db4849c-642e-4e01-aa74-5589902c5b85",
   "metadata": {},
   "outputs": [
    {
     "data": {
      "text/plain": [
       "<Axes: xlabel='Age', ylabel='Count'>"
      ]
     },
     "execution_count": 32,
     "metadata": {},
     "output_type": "execute_result"
    },
    {
     "data": {
      "image/png": "[encoded data removed]",
      "text/plain": [
       "<Figure size 640x480 with 1 Axes>"
      ]
     },
     "metadata": {},
     "output_type": "display_data"
    }
   ],
   "source": [
    "# plotting graph \n",
    "\n",
    "sns.histplot(x='Age', data= dataset)"
   ]
  }
 ],
 "metadata": {
  "kernelspec": {
   "display_name": "Python 3 (ipykernel)",
   "language": "python",
   "name": "python3"
  },
  "language_info": {
   "codemirror_mode": {
    "name": "ipython",
    "version": 3
   },
   "file_extension": ".py",
   "mimetype": "text/x-python",
   "name": "python",
   "nbconvert_exporter": "python",
   "pygments_lexer": "ipython3",
   "version": "3.12.5"
  }
 },
 "nbformat": 4,
 "nbformat_minor": 5
}
